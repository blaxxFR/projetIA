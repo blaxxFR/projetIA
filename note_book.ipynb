{
 "cells": [
  {
   "cell_type": "markdown",
   "metadata": {},
   "source": [
    "# IMPORT DE DONNEES"
   ]
  },
  {
   "cell_type": "code",
   "execution_count": 19,
   "metadata": {},
   "outputs": [
    {
     "name": "stdout",
     "output_type": "stream",
     "text": [
      "         L_tot   rho         h         b       freq1\n",
      "0     0.288160  2700  0.005500  0.009846   54.090599\n",
      "1     0.172119  2400  0.008618  0.010560  166.140594\n",
      "2     0.677284  2400  0.042307  0.044046   52.675499\n",
      "3     0.957810  4510  0.080897  0.078160   71.617699\n",
      "4     0.530750  2700  0.006690  0.006449   19.395201\n",
      "...        ...   ...       ...       ...         ...\n",
      "9995  0.946155  7800  0.050133  0.062122   46.150902\n",
      "9996  0.333653  7850  0.018539  0.028223  139.140503\n",
      "9997  0.204040  7850  0.004373  0.011738   87.760803\n",
      "9998  0.289012  7800  0.017508  0.012411  172.734207\n",
      "9999  0.698311  4510  0.056114  0.056225   93.457802\n",
      "\n",
      "[10000 rows x 5 columns]\n",
      "entrées train : \n",
      "          L_tot   rho         h         b\n",
      "4956  0.458898  8900  0.039582  0.019506\n",
      "9488  0.911209  2500  0.028147  0.020128\n",
      "7351  0.480215  7850  0.016531  0.025990\n",
      "3861  0.227064  2700  0.011593  0.011219\n",
      "4098  0.741272  4510  0.018408  0.060121\n",
      "...        ...   ...       ...       ...\n",
      "6685  0.279029  4510  0.025436  0.004461\n",
      "8490  0.211888  2700  0.013204  0.012223\n",
      "3889  0.614132  2700  0.033727  0.030322\n",
      "7060  0.927573  7850  0.030106  0.021006\n",
      "9694  0.978338  2500  0.073977  0.093628\n",
      "\n",
      "[7000 rows x 4 columns]\n",
      "target train : \n",
      "            freq1\n",
      "4956  113.333199\n",
      "9488   28.769300\n",
      "7351   59.892502\n",
      "3861  183.616699\n",
      "4098   27.208500\n",
      "...          ...\n",
      "6685  265.338989\n",
      "8490  240.168900\n",
      "3889   73.025703\n",
      "7060   29.235800\n",
      "9694   65.592499\n",
      "\n",
      "[7000 rows x 1 columns]\n"
     ]
    }
   ],
   "source": [
    "#VISUALISATION ET IMPORT DE DONNEES\n",
    "import os\n",
    "import pickle\n",
    "import numpy as np\n",
    "import pandas as pd\n",
    "import torch\n",
    "import matplotlib.pyplot as plt\n",
    "import seaborn as sns\n",
    "\n",
    "\n",
    "\n",
    "#SKLEARN FUNCTIONS\n",
    "from sklearn.model_selection import train_test_split\n",
    "from sklearn.model_selection import cross_validate\n",
    "from sklearn.linear_model import LinearRegression\n",
    "from sklearn.model_selection import GridSearchCV, KFold, cross_val_score\n",
    "from sklearn.linear_model import LinearRegression, Ridge, Lasso, ElasticNet\n",
    "from sklearn.preprocessing import PolynomialFeatures\n",
    "from sklearn.model_selection import GridSearchCV\n",
    "from sklearn.model_selection import train_test_split\n",
    "from sklearn.metrics import r2_score\n",
    "from sklearn.metrics import mean_squared_error\n",
    "from sklearn import linear_model\n",
    "from sklearn.ensemble import RandomForestRegressor\n",
    "from sklearn.pipeline import make_pipeline\n",
    "import joblib\n",
    "\n",
    "\n",
    "########################      PRE-PROCESSING      #############################\n",
    "\n",
    "\n",
    "#ouverture et lecture des deux fichiers csv : frequences propres et entrées \n",
    "freq = pd.read_csv(open(\"testPOC.csv\", \"r\"),\n",
    "                    delimiter=\",\")\n",
    "inputs = pd.read_csv(open(\"dictPOC.csv\", \"r\"),\n",
    "                    delimiter=\",\")\n",
    "#2 dataFrames sont créés\n",
    "\n",
    "#keep 1 column of freq\n",
    "\n",
    "\n",
    "#Concatenation des deux dataframes dans le même DataFrame : data\n",
    "datas = [inputs, freq]\n",
    "datas = pd.concat(datas, axis=1)\n",
    "\n",
    "\n",
    "def plot_correlation_matrix(data):\n",
    "    corr = data.corr()\n",
    "    sns.heatmap(corr, xticklabels=corr.columns, yticklabels=corr.columns)\n",
    "    plt.show()\n",
    "    print(corr)\n",
    "\n",
    "# plot_correlation_matrix(pd.DataFrame(datas))\n",
    "\n",
    "# d'apres la matrice de correlation, certaines entrées sont étroitement liées\n",
    "# on va donc supprimer certaines de ces valeurs pour conserver :\n",
    "# hauteur h, base b, la masse volumique rho, la longueur de la poutre L_tot\n",
    "to_drop = ['NbElts', 'S', 'I', 'L', 'E','freq2','freq3','freq4','freq5','freq6','freq7','freq8']\n",
    "datas = datas.drop(columns=to_drop)\n",
    "#keep 10000 random values of datas\n",
    "\n",
    "\n",
    "print(datas)\n",
    "######################      FIN PRE-PROCESSING      ###########################\n",
    "\n",
    "\n",
    "\n",
    "\n",
    "#######################      TRAIN_TEST_SPLIT      ############################\n",
    "# 70% de la population sera allouée à l'apprentissage, 30 % pour le test\n",
    "population_train = 0.7\n",
    "\n",
    "# mélange et séparation de nos données en 2 datasets  \n",
    "split_train, split_test = train_test_split(datas, train_size=population_train)\n",
    "\n",
    "# On extrait les données qui serviront d'objectif à atteindre, soit ici les \n",
    "# 8 fréquences propres à prédire\n",
    "\n",
    "entrees = ['L_tot','rho', 'h', 'b']\n",
    "split_target_train = split_train.drop(columns=entrees)\n",
    "split_target_test = split_test.drop(columns=entrees)\n",
    "\n",
    "\n",
    "frequences = [\"freq1\"]\n",
    "split_train = split_train.drop(columns=frequences)\n",
    "split_test = split_test.drop(columns=frequences)\n",
    "\n",
    "print(\"entrées train : \\n\",split_train)\n",
    "print(\"target train : \\n\", split_target_train)\n",
    "\n",
    "#split_train = entrees servant à entrainer le modèle\n",
    "#split test = entrees servant à tester le modèle\n",
    "#split_target_train = sorties d'entrainement du modèle\n",
    "#split_target_test = sorties de test du modèle \n",
    "\n",
    "\n",
    "#######################      FIN TR_TST_SPLIT      ############################"
   ]
  },
  {
   "cell_type": "markdown",
   "metadata": {},
   "source": [
    "# PROCESSING"
   ]
  },
  {
   "cell_type": "code",
   "execution_count": 20,
   "metadata": {},
   "outputs": [],
   "source": [
    "def PolynomialRegression(degree=2, **kwargs):\n",
    "    return make_pipeline(PolynomialFeatures(degree), LinearRegression(**kwargs))"
   ]
  },
  {
   "cell_type": "code",
   "execution_count": 21,
   "metadata": {},
   "outputs": [
    {
     "data": {
      "text/plain": [
       "\"my_grid_poly ={'polynomialfeatures__degree': [9],\\n                'linearregression__fit_intercept': [True, False],\\n                'linearregression__normalize': [True, False]}\\n\\n\\npoly_reg_model = PolynomialRegression(9, fit_intercept=True, normalize=True)\\ngrid_search = GridSearchCV(poly_reg_model, my_grid_poly, cv=5, n_jobs=-1, verbose=2,)\\n#print best score and model\\n# Ravel plit_target_train\\njesuisunfdp = grid_search.fit(split_train, split_target_train)\\nprint(grid_search.best_score_)\\nprint(grid_search.best_estimator_)\\nprint(grid_search.best_params_)\""
      ]
     },
     "execution_count": 21,
     "metadata": {},
     "output_type": "execute_result"
    }
   ],
   "source": [
    "\"\"\"my_grid_poly ={'polynomialfeatures__degree': [9],\n",
    "                'linearregression__fit_intercept': [True, False],\n",
    "                'linearregression__normalize': [True, False]}\n",
    "\n",
    "\n",
    "poly_reg_model = PolynomialRegression(9, fit_intercept=True, normalize=True)\n",
    "grid_search = GridSearchCV(poly_reg_model, my_grid_poly, cv=5, n_jobs=-1, verbose=2,)\n",
    "#print best score and model\n",
    "# Ravel plit_target_train\n",
    "jesuisunfdp = grid_search.fit(split_train, split_target_train)\n",
    "print(grid_search.best_score_)\n",
    "print(grid_search.best_estimator_)\n",
    "print(grid_search.best_params_)\"\"\""
   ]
  },
  {
   "cell_type": "code",
   "execution_count": 22,
   "metadata": {},
   "outputs": [
    {
     "name": "stderr",
     "output_type": "stream",
     "text": [
      "c:\\Users\\enzoh\\AppData\\Local\\Programs\\Python\\Python310\\lib\\site-packages\\sklearn\\linear_model\\_base.py:141: FutureWarning: 'normalize' was deprecated in version 1.0 and will be removed in 1.2.\n",
      "If you wish to scale the data, use Pipeline with a StandardScaler in a preprocessing stage. To reproduce the previous behavior:\n",
      "\n",
      "from sklearn.pipeline import make_pipeline\n",
      "\n",
      "model = make_pipeline(StandardScaler(with_mean=False), LinearRegression())\n",
      "\n",
      "If you wish to pass a sample_weight parameter, you need to pass it as a fit parameter to each step of the pipeline as follows:\n",
      "\n",
      "kwargs = {s[0] + '__sample_weight': sample_weight for s in model.steps}\n",
      "model.fit(X, y, **kwargs)\n",
      "\n",
      "\n",
      "  warnings.warn(\n"
     ]
    },
    {
     "name": "stdout",
     "output_type": "stream",
     "text": [
      " 0.9988981108699428\n"
     ]
    }
   ],
   "source": [
    "poly_reg_model = PolynomialRegression(9, fit_intercept=True, normalize=True)\n",
    "poly_reg_model.fit(split_train, split_target_train)\n",
    "print(\"\",poly_reg_model.score(split_test, split_target_test))"
   ]
  },
  {
   "cell_type": "code",
   "execution_count": 23,
   "metadata": {},
   "outputs": [
    {
     "data": {
      "image/png": "[encoded data removed]",
      "text/plain": [
       "<Figure size 1200x500 with 1 Axes>"
      ]
     },
     "metadata": {},
     "output_type": "display_data"
    }
   ],
   "source": [
    "Y_pred = poly_reg_model.predict(split_test)\n",
    "plt.figure(figsize=(12, 5))\n",
    "plt.plot((Y_pred)[:80])\n",
    "plt.plot((np.array(split_target_test)[:80]))\n",
    "\n",
    "plt.legend(\n",
    "    ['Y_grid_search', 'split_target_test'])\n",
    "plt.show()\n"
   ]
  },
  {
   "cell_type": "code",
   "execution_count": 35,
   "metadata": {},
   "outputs": [
    {
     "name": "stdout",
     "output_type": "stream",
     "text": [
      " 0.7512617834708355\n"
     ]
    },
    {
     "name": "stderr",
     "output_type": "stream",
     "text": [
      "c:\\Users\\enzoh\\AppData\\Local\\Programs\\Python\\Python310\\lib\\site-packages\\sklearn\\linear_model\\_base.py:141: FutureWarning: 'normalize' was deprecated in version 1.0 and will be removed in 1.2.\n",
      "If you wish to scale the data, use Pipeline with a StandardScaler in a preprocessing stage. To reproduce the previous behavior:\n",
      "\n",
      "from sklearn.pipeline import make_pipeline\n",
      "\n",
      "model = make_pipeline(StandardScaler(with_mean=False), LinearRegression())\n",
      "\n",
      "If you wish to pass a sample_weight parameter, you need to pass it as a fit parameter to each step of the pipeline as follows:\n",
      "\n",
      "kwargs = {s[0] + '__sample_weight': sample_weight for s in model.steps}\n",
      "model.fit(X, y, **kwargs)\n",
      "\n",
      "\n",
      "  warnings.warn(\n"
     ]
    }
   ],
   "source": [
    "from sklearn.pipeline import Pipeline\n",
    "\n",
    "\n",
    "polynomial_features = PolynomialFeatures(degree=2)\n",
    "linear_regression = LinearRegression(fit_intercept=True, normalize=True)\n",
    "pipeline = Pipeline(\n",
    "    [\n",
    "        (\"polynomial_features\", polynomial_features),\n",
    "        (\"linear_regression\", linear_regression),\n",
    "    ]\n",
    ")\n",
    "pipeline.fit(split_train, split_target_train)\n",
    "print(\"\",pipeline.score(split_test, split_target_test))"
   ]
  },
  {
   "cell_type": "code",
   "execution_count": 34,
   "metadata": {},
   "outputs": [
    {
     "name": "stdout",
     "output_type": "stream",
     "text": [
      " 0.7512617834708355\n"
     ]
    },
    {
     "name": "stderr",
     "output_type": "stream",
     "text": [
      "c:\\Users\\enzoh\\AppData\\Local\\Programs\\Python\\Python310\\lib\\site-packages\\sklearn\\linear_model\\_base.py:141: FutureWarning: 'normalize' was deprecated in version 1.0 and will be removed in 1.2.\n",
      "If you wish to scale the data, use Pipeline with a StandardScaler in a preprocessing stage. To reproduce the previous behavior:\n",
      "\n",
      "from sklearn.pipeline import make_pipeline\n",
      "\n",
      "model = make_pipeline(StandardScaler(with_mean=False), LinearRegression())\n",
      "\n",
      "If you wish to pass a sample_weight parameter, you need to pass it as a fit parameter to each step of the pipeline as follows:\n",
      "\n",
      "kwargs = {s[0] + '__sample_weight': sample_weight for s in model.steps}\n",
      "model.fit(X, y, **kwargs)\n",
      "\n",
      "\n",
      "  warnings.warn(\n"
     ]
    }
   ],
   "source": [
    "poly_reg_model = PolynomialRegression(2 , fit_intercept=True, normalize=True)\n",
    "poly_reg_model.fit(split_train, split_target_train)\n",
    "print(\"\",poly_reg_model.score(split_test, split_target_test))"
   ]
  },
  {
   "cell_type": "markdown",
   "metadata": {},
   "source": [
    "# PASSAGE A L'EVALUATION DU MODELE EN FONCTION DU NOMBRE DE DONNEES"
   ]
  },
  {
   "cell_type": "code",
   "execution_count": 40,
   "metadata": {},
   "outputs": [
    {
     "name": "stdout",
     "output_type": "stream",
     "text": [
      "          L_tot   rho         h         b       freq1\n",
      "0      0.107854  2700  0.010595  0.004782  743.825989\n",
      "1      0.963487  7850  0.022054  0.059100   19.849300\n",
      "2      0.855746  7850  0.079650  0.048035   90.876297\n",
      "3      0.657111  4510  0.008149  0.024741   15.327500\n",
      "4      0.108837  2500  0.007384  0.003889  529.052307\n",
      "...         ...   ...       ...       ...         ...\n",
      "99995  0.425659  2400  0.019574  0.008568   61.702099\n",
      "99996  0.889934  8900  0.066700  0.079108   50.781300\n",
      "99997  0.180274  2700  0.014730  0.007937  370.140991\n",
      "99998  0.431294  2500  0.031679  0.022028  144.532394\n",
      "99999  0.793565  2400  0.037652  0.060480   34.147800\n",
      "\n",
      "[100000 rows x 5 columns]\n"
     ]
    }
   ],
   "source": [
    "freq = pd.read_csv(open(\"test.csv\", \"r\"),\n",
    "                    delimiter=\",\")\n",
    "inputs = pd.read_csv(open(\"dict.csv\", \"r\"),\n",
    "                    delimiter=\",\")\n",
    "#2 dataFrames sont créés\n",
    "\n",
    "#keep 1 column of freq\n",
    "\n",
    "\n",
    "#Concatenation des deux dataframes dans le même DataFrame : data\n",
    "datas = [inputs, freq]\n",
    "datas = pd.concat(datas, axis=1)\n",
    "\n",
    "\n",
    "def plot_correlation_matrix(data):\n",
    "    corr = data.corr()\n",
    "    sns.heatmap(corr, xticklabels=corr.columns, yticklabels=corr.columns)\n",
    "    plt.show()\n",
    "    print(corr)\n",
    "\n",
    "# plot_correlation_matrix(pd.DataFrame(datas))\n",
    "\n",
    "# d'apres la matrice de correlation, certaines entrées sont étroitement liées\n",
    "# on va donc supprimer certaines de ces valeurs pour conserver :\n",
    "# hauteur h, base b, la masse volumique rho, la longueur de la poutre L_tot\n",
    "to_drop = ['NbElts', 'S', 'I', 'L', 'E','freq2','freq3','freq4','freq5','freq6','freq7','freq8']\n",
    "datas = datas.drop(columns=to_drop)\n",
    "#keep 10000 random values of datas\n",
    "\n",
    "\n",
    "print(datas)\n",
    "######################      FIN PRE-PROCESSING      ###########################\n"
   ]
  },
  {
   "cell_type": "code",
   "execution_count": 39,
   "metadata": {},
   "outputs": [
    {
     "name": "stdout",
     "output_type": "stream",
     "text": [
      " 0.7550901160365967\n"
     ]
    },
    {
     "name": "stderr",
     "output_type": "stream",
     "text": [
      "c:\\Users\\enzoh\\AppData\\Local\\Programs\\Python\\Python310\\lib\\site-packages\\sklearn\\linear_model\\_base.py:141: FutureWarning: 'normalize' was deprecated in version 1.0 and will be removed in 1.2.\n",
      "If you wish to scale the data, use Pipeline with a StandardScaler in a preprocessing stage. To reproduce the previous behavior:\n",
      "\n",
      "from sklearn.pipeline import make_pipeline\n",
      "\n",
      "model = make_pipeline(StandardScaler(with_mean=False), LinearRegression())\n",
      "\n",
      "If you wish to pass a sample_weight parameter, you need to pass it as a fit parameter to each step of the pipeline as follows:\n",
      "\n",
      "kwargs = {s[0] + '__sample_weight': sample_weight for s in model.steps}\n",
      "model.fit(X, y, **kwargs)\n",
      "\n",
      "\n",
      "  warnings.warn(\n"
     ]
    },
    {
     "ename": "ValueError",
     "evalue": "Cannot take a larger sample than population when 'replace=False'",
     "output_type": "error",
     "traceback": [
      "\u001b[1;31m---------------------------------------------------------------------------\u001b[0m",
      "\u001b[1;31mValueError\u001b[0m                                Traceback (most recent call last)",
      "Cell \u001b[1;32mIn [39], line 9\u001b[0m\n\u001b[0;32m      7\u001b[0m exec_time \u001b[39m=\u001b[39m []\n\u001b[0;32m      8\u001b[0m \u001b[39mfor\u001b[39;00m i \u001b[39min\u001b[39;00m \u001b[39mrange\u001b[39m(\u001b[39m500\u001b[39m,\u001b[39m10000\u001b[39m,\u001b[39m500\u001b[39m):\n\u001b[1;32m----> 9\u001b[0m     datas \u001b[39m=\u001b[39m datas\u001b[39m.\u001b[39;49msample(n\u001b[39m=\u001b[39;49mi)\n\u001b[0;32m     11\u001b[0m     \u001b[39m#######################      TRAIN_TEST_SPLIT      ############################\u001b[39;00m\n\u001b[0;32m     12\u001b[0m     \u001b[39m# 70% de la population sera allouée à l'apprentissage, 30 % pour le test\u001b[39;00m\n\u001b[0;32m     13\u001b[0m     population_train \u001b[39m=\u001b[39m \u001b[39m0.7\u001b[39m\n",
      "File \u001b[1;32mc:\\Users\\enzoh\\AppData\\Local\\Programs\\Python\\Python310\\lib\\site-packages\\pandas\\core\\generic.py:5778\u001b[0m, in \u001b[0;36mNDFrame.sample\u001b[1;34m(self, n, frac, replace, weights, random_state, axis, ignore_index)\u001b[0m\n\u001b[0;32m   5775\u001b[0m \u001b[39mif\u001b[39;00m weights \u001b[39mis\u001b[39;00m \u001b[39mnot\u001b[39;00m \u001b[39mNone\u001b[39;00m:\n\u001b[0;32m   5776\u001b[0m     weights \u001b[39m=\u001b[39m sample\u001b[39m.\u001b[39mpreprocess_weights(\u001b[39mself\u001b[39m, weights, axis)\n\u001b[1;32m-> 5778\u001b[0m sampled_indices \u001b[39m=\u001b[39m sample\u001b[39m.\u001b[39;49msample(obj_len, size, replace, weights, rs)\n\u001b[0;32m   5779\u001b[0m result \u001b[39m=\u001b[39m \u001b[39mself\u001b[39m\u001b[39m.\u001b[39mtake(sampled_indices, axis\u001b[39m=\u001b[39maxis)\n\u001b[0;32m   5781\u001b[0m \u001b[39mif\u001b[39;00m ignore_index:\n",
      "File \u001b[1;32mc:\\Users\\enzoh\\AppData\\Local\\Programs\\Python\\Python310\\lib\\site-packages\\pandas\\core\\sample.py:150\u001b[0m, in \u001b[0;36msample\u001b[1;34m(obj_len, size, replace, weights, random_state)\u001b[0m\n\u001b[0;32m    147\u001b[0m     \u001b[39melse\u001b[39;00m:\n\u001b[0;32m    148\u001b[0m         \u001b[39mraise\u001b[39;00m \u001b[39mValueError\u001b[39;00m(\u001b[39m\"\u001b[39m\u001b[39mInvalid weights: weights sum to zero\u001b[39m\u001b[39m\"\u001b[39m)\n\u001b[1;32m--> 150\u001b[0m \u001b[39mreturn\u001b[39;00m random_state\u001b[39m.\u001b[39;49mchoice(obj_len, size\u001b[39m=\u001b[39;49msize, replace\u001b[39m=\u001b[39;49mreplace, p\u001b[39m=\u001b[39;49mweights)\u001b[39m.\u001b[39mastype(\n\u001b[0;32m    151\u001b[0m     np\u001b[39m.\u001b[39mintp, copy\u001b[39m=\u001b[39m\u001b[39mFalse\u001b[39;00m\n\u001b[0;32m    152\u001b[0m )\n",
      "File \u001b[1;32mmtrand.pyx:965\u001b[0m, in \u001b[0;36mnumpy.random.mtrand.RandomState.choice\u001b[1;34m()\u001b[0m\n",
      "\u001b[1;31mValueError\u001b[0m: Cannot take a larger sample than population when 'replace=False'"
     ]
    }
   ],
   "source": [
    "# keep 10000 random values of datas\n",
    "import time\n",
    "\n",
    "\n",
    "score = []\n",
    "nbr_values = []\n",
    "exec_time = []\n",
    "for i in range(500,10000,500):\n",
    "    datas = datas.sample(n=i)\n",
    "    \n",
    "    #######################      TRAIN_TEST_SPLIT      ############################\n",
    "    # 70% de la population sera allouée à l'apprentissage, 30 % pour le test\n",
    "    population_train = 0.7\n",
    "\n",
    "    # mélange et séparation de nos données en 2 datasets  \n",
    "    split_train, split_test = train_test_split(datas, train_size=population_train)\n",
    "\n",
    "    # On extrait les données qui serviront d'objectif à atteindre, soit ici les \n",
    "    # 8 fréquences propres à prédire\n",
    "\n",
    "    entrees = ['L_tot','rho', 'h', 'b']\n",
    "    split_target_train = split_train.drop(columns=entrees)\n",
    "    split_target_test = split_test.drop(columns=entrees)\n",
    "\n",
    "\n",
    "    frequences = [\"freq1\"]\n",
    "    split_train = split_train.drop(columns=frequences)\n",
    "    split_test = split_test.drop(columns=frequences)\n",
    "    start = time.time()\n",
    "    poly_reg_model = PolynomialRegression(9 , fit_intercept=True, normalize=True)\n",
    "    poly_reg_model.fit(split_train, split_target_train)\n",
    "    end = (time.time() - start)\n",
    "    score.append(poly_reg_model.score(split_test, split_target_test))\n",
    "    nbr_values.append(i)\n",
    "    exec_time.append(time.time() - start)\n",
    "\n",
    "plt.figure(figsize=(12, 5))\n",
    "plt.plot(nbr_values, score)\n",
    "plt.plot(nbr_values, exec_time)\n",
    "plt.legend(\n",
    "    ['score', 'exec_time'])\n",
    "plt.show()\n",
    "\n",
    "    \n",
    "\n",
    "\n",
    "\n"
   ]
  }
 ],
 "metadata": {
  "kernelspec": {
   "display_name": "Python 3.10.8 64-bit",
   "language": "python",
   "name": "python3"
  },
  "language_info": {
   "codemirror_mode": {
    "name": "ipython",
    "version": 3
   },
   "file_extension": ".py",
   "mimetype": "text/x-python",
   "name": "python",
   "nbconvert_exporter": "python",
   "pygments_lexer": "ipython3",
   "version": "3.10.8"
  },
  "orig_nbformat": 4,
  "vscode": {
   "interpreter": {
    "hash": "91d527cafe2f425a4290ffff6183ccc7232b7b1c0c079161faf3c53f7523f56f"
   }
  }
 },
 "nbformat": 4,
 "nbformat_minor": 2
}
